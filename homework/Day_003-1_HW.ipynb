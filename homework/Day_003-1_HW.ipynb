{
 "cells": [
  {
   "cell_type": "markdown",
   "metadata": {},
   "source": [
    "## 練習時間\n",
    "在小量的資料上，我們用眼睛就可以看得出來程式碼是否有跑出我們理想中的結果\n",
    "\n",
    "請嘗試想像一個你需要的資料結構 (裡面的值可以是隨機的)，然後用上述的方法把它變成 pandas DataFrame\n",
    "\n",
    "#### Ex: 想像一個 dataframe 有兩個欄位，一個是國家，一個是人口，求人口數最多的國家\n",
    "\n",
    "### Hints: [隨機產生數值](https://blog.csdn.net/christianashannon/article/details/78867204)"
   ]
  },
  {
   "cell_type": "code",
   "execution_count": 25,
   "metadata": {},
   "outputs": [],
   "source": [
    "import pandas as pd\n",
    "import numpy as np\n",
    "import random"
   ]
  },
  {
   "cell_type": "code",
   "execution_count": 42,
   "metadata": {},
   "outputs": [
    {
     "data": {
      "text/html": [
       "<div>\n",
       "<style scoped>\n",
       "    .dataframe tbody tr th:only-of-type {\n",
       "        vertical-align: middle;\n",
       "    }\n",
       "\n",
       "    .dataframe tbody tr th {\n",
       "        vertical-align: top;\n",
       "    }\n",
       "\n",
       "    .dataframe thead th {\n",
       "        text-align: right;\n",
       "    }\n",
       "</style>\n",
       "<table border=\"1\" class=\"dataframe\">\n",
       "  <thead>\n",
       "    <tr style=\"text-align: right;\">\n",
       "      <th></th>\n",
       "      <th>人口</th>\n",
       "      <th>國家</th>\n",
       "    </tr>\n",
       "  </thead>\n",
       "  <tbody>\n",
       "    <tr>\n",
       "      <th>0</th>\n",
       "      <td>73270000</td>\n",
       "      <td>英國</td>\n",
       "    </tr>\n",
       "    <tr>\n",
       "      <th>1</th>\n",
       "      <td>92540000</td>\n",
       "      <td>日本</td>\n",
       "    </tr>\n",
       "    <tr>\n",
       "      <th>2</th>\n",
       "      <td>68600000</td>\n",
       "      <td>台灣</td>\n",
       "    </tr>\n",
       "    <tr>\n",
       "      <th>3</th>\n",
       "      <td>73650000</td>\n",
       "      <td>美國</td>\n",
       "    </tr>\n",
       "    <tr>\n",
       "      <th>4</th>\n",
       "      <td>56760000</td>\n",
       "      <td>澳洲</td>\n",
       "    </tr>\n",
       "  </tbody>\n",
       "</table>\n",
       "</div>"
      ],
      "text/plain": [
       "         人口  國家\n",
       "0  73270000  英國\n",
       "1  92540000  日本\n",
       "2  68600000  台灣\n",
       "3  73650000  美國\n",
       "4  56760000  澳洲"
      ]
     },
     "metadata": {},
     "output_type": "display_data"
    },
    {
     "name": "stdout",
     "output_type": "stream",
     "text": [
      "最大人口數 :日本  92540000\n"
     ]
    }
   ],
   "source": [
    "num1=random.randrange(20000000, 100000000, 10000)\n",
    "num2=random.randrange(20000000, 100000000, 10000)\n",
    "num3=random.randrange(20000000, 100000000, 10000)\n",
    "num4=random.randrange(20000000, 100000000, 10000)\n",
    "num5=random.randrange(20000000, 100000000, 10000)\n",
    "data = {'人口': [num1,num2,num3,num4,num5],\n",
    "    '國家': ['英國','日本','台灣','美國','澳洲']\n",
    "     }\n",
    "list ={num1,num2,num3,num4,num5}\n",
    "\n",
    "\n",
    "data = pd.DataFrame(data)\n",
    "display(data)\n",
    "\n",
    "if (max(list)==num1):\n",
    "    print('最大人口數 :英國 ', max(list))\n",
    "elif (max(list)==num2):\n",
    "    print('最大人口數 :日本 ', max(list))\n",
    "elif (max(list)==num3):\n",
    "    print('最大人口數 :台灣 ', max(list))\n",
    "elif (max(list)==num4):\n",
    "    print('最大人口數 :美國 ', max(list))\n",
    "elif (max(list)==num5):\n",
    "    print('最大人口數 :澳洲 ', max(list))"
   ]
  },
  {
   "cell_type": "code",
   "execution_count": 29,
   "metadata": {},
   "outputs": [
    {
     "data": {
      "text/html": [
       "<div>\n",
       "<style scoped>\n",
       "    .dataframe tbody tr th:only-of-type {\n",
       "        vertical-align: middle;\n",
       "    }\n",
       "\n",
       "    .dataframe tbody tr th {\n",
       "        vertical-align: top;\n",
       "    }\n",
       "\n",
       "    .dataframe thead th {\n",
       "        text-align: right;\n",
       "    }\n",
       "</style>\n",
       "<table border=\"1\" class=\"dataframe\">\n",
       "  <thead>\n",
       "    <tr style=\"text-align: right;\">\n",
       "      <th></th>\n",
       "      <th>人口</th>\n",
       "      <th>國家</th>\n",
       "      <th>洲</th>\n",
       "    </tr>\n",
       "  </thead>\n",
       "  <tbody>\n",
       "    <tr>\n",
       "      <th>0</th>\n",
       "      <td>44270000</td>\n",
       "      <td>英國</td>\n",
       "      <td>歐洲</td>\n",
       "    </tr>\n",
       "    <tr>\n",
       "      <th>1</th>\n",
       "      <td>69310000</td>\n",
       "      <td>日本</td>\n",
       "      <td>亞洲</td>\n",
       "    </tr>\n",
       "    <tr>\n",
       "      <th>2</th>\n",
       "      <td>68060000</td>\n",
       "      <td>台灣</td>\n",
       "      <td>亞洲</td>\n",
       "    </tr>\n",
       "    <tr>\n",
       "      <th>3</th>\n",
       "      <td>44650000</td>\n",
       "      <td>美國</td>\n",
       "      <td>美洲</td>\n",
       "    </tr>\n",
       "    <tr>\n",
       "      <th>4</th>\n",
       "      <td>80380000</td>\n",
       "      <td>澳洲</td>\n",
       "      <td>大洋洲</td>\n",
       "    </tr>\n",
       "  </tbody>\n",
       "</table>\n",
       "</div>"
      ],
      "text/plain": [
       "         人口  國家    洲\n",
       "0  44270000  英國   歐洲\n",
       "1  69310000  日本   亞洲\n",
       "2  68060000  台灣   亞洲\n",
       "3  44650000  美國   美洲\n",
       "4  80380000  澳洲  大洋洲"
      ]
     },
     "metadata": {},
     "output_type": "display_data"
    },
    {
     "data": {
      "text/plain": [
       "洲\n",
       "亞洲     68685000\n",
       "大洋洲    80380000\n",
       "歐洲     44270000\n",
       "美洲     44650000\n",
       "Name: 人口, dtype: int64"
      ]
     },
     "execution_count": 29,
     "metadata": {},
     "output_type": "execute_result"
    }
   ],
   "source": [
    "data3 = {'人口': [num1,num2,num3,num4,num5],\n",
    "    '國家': ['英國','日本','台灣','美國','澳洲']\n",
    "       ,'洲':['歐洲','亞洲','亞洲','美洲','大洋洲']}\n",
    "\n",
    "data3 = pd.DataFrame(data3)\n",
    "display(data3)\n",
    "data3.groupby(by=\"洲\")['人口'].mean()\n"
   ]
  }
 ],
 "metadata": {
  "kernelspec": {
   "display_name": "Python 3",
   "language": "python",
   "name": "python3"
  },
  "language_info": {
   "codemirror_mode": {
    "name": "ipython",
    "version": 3
   },
   "file_extension": ".py",
   "mimetype": "text/x-python",
   "name": "python",
   "nbconvert_exporter": "python",
   "pygments_lexer": "ipython3",
   "version": "3.5.5"
  }
 },
 "nbformat": 4,
 "nbformat_minor": 2
}
